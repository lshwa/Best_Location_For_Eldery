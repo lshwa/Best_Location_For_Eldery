{
 "cells": [
  {
   "cell_type": "code",
   "execution_count": 1,
   "id": "b1c3595e",
   "metadata": {},
   "outputs": [
    {
     "name": "stdout",
     "output_type": "stream",
     "text": [
      "<class 'pandas.core.frame.DataFrame'>\n",
      "RangeIndex: 3644 entries, 0 to 3643\n",
      "Data columns (total 10 columns):\n",
      " #   Column         Non-Null Count  Dtype  \n",
      "---  ------         --------------  -----  \n",
      " 0   Unnamed: 0     3644 non-null   int64  \n",
      " 1   시설명(경로당명)      3644 non-null   object \n",
      " 2   시설종류           3644 non-null   object \n",
      " 3   시군구명           3644 non-null   object \n",
      " 4   주소(도로명)        3644 non-null   object \n",
      " 5   시설 주소_cleaned  3641 non-null   object \n",
      " 6   lat            3421 non-null   float64\n",
      " 7   lon            3421 non-null   float64\n",
      " 8   x              3421 non-null   float64\n",
      " 9   y              3421 non-null   float64\n",
      "dtypes: float64(4), int64(1), object(5)\n",
      "memory usage: 284.8+ KB\n",
      "<class 'pandas.core.frame.DataFrame'>\n",
      "RangeIndex: 226 entries, 0 to 225\n",
      "Data columns (total 16 columns):\n",
      " #   Column         Non-Null Count  Dtype  \n",
      "---  ------         --------------  -----  \n",
      " 0   Unnamed: 0     226 non-null    int64  \n",
      " 1   시설명            226 non-null    object \n",
      " 2   시설코드           226 non-null    object \n",
      " 3   시설종류명(시설유형)    226 non-null    object \n",
      " 4   시설종류상세명(시설종류)  226 non-null    object \n",
      " 5   자치구(시)구분       226 non-null    object \n",
      " 6   시군구코드          226 non-null    int64  \n",
      " 7   시군구명           226 non-null    object \n",
      " 8   시설주소           226 non-null    object \n",
      " 9   전화번호           0 non-null      float64\n",
      " 10  우편번호           0 non-null      float64\n",
      " 11  시설 주소_cleaned  226 non-null    object \n",
      " 12  lat            213 non-null    float64\n",
      " 13  lon            213 non-null    float64\n",
      " 14  x              213 non-null    float64\n",
      " 15  y              213 non-null    float64\n",
      "dtypes: float64(6), int64(2), object(8)\n",
      "memory usage: 28.4+ KB\n"
     ]
    }
   ],
   "source": [
    "import pandas as pd\n",
    "\n",
    "df1 = pd.read_csv(\"1.csv\")\n",
    "df2 = pd.read_csv(\"2.csv\")\n",
    "\n",
    "df1.info()\n",
    "df2.info()"
   ]
  },
  {
   "cell_type": "code",
   "execution_count": 2,
   "id": "9471eeb0",
   "metadata": {},
   "outputs": [
    {
     "name": "stdout",
     "output_type": "stream",
     "text": [
      "Index(['Unnamed: 0', '시설명(경로당명)', '시설종류', '시군구명', '주소(도로명)', '시설 주소_cleaned',\n",
      "       'lat', 'lon', 'x', 'y'],\n",
      "      dtype='object')\n",
      "Index(['Unnamed: 0', '시설명', '시설코드', '시설종류명(시설유형)', '시설종류상세명(시설종류)', '자치구(시)구분',\n",
      "       '시군구코드', '시군구명', '시설주소', '전화번호', '우편번호', '시설 주소_cleaned', 'lat', 'lon',\n",
      "       'x', 'y'],\n",
      "      dtype='object')\n"
     ]
    }
   ],
   "source": [
    "print(df1.columns)\n",
    "print(df2.columns)"
   ]
  },
  {
   "cell_type": "code",
   "execution_count": 4,
   "id": "11425861",
   "metadata": {},
   "outputs": [
    {
     "name": "stdout",
     "output_type": "stream",
     "text": [
      "3644 226\n"
     ]
    }
   ],
   "source": [
    "print(len(df1), len(df2))"
   ]
  },
  {
   "cell_type": "code",
   "execution_count": 3,
   "id": "69f2ede4",
   "metadata": {},
   "outputs": [
    {
     "name": "stdout",
     "output_type": "stream",
     "text": [
      "Index(['Unnamed: 0', '시설명(경로당명)', '시설종류', '시군구명', '주소(도로명)', '시설 주소_cleaned',\n",
      "       'lat', 'lon', 'x', 'y'],\n",
      "      dtype='object')\n",
      "Index(['Unnamed: 0', '시설명', '시설코드', '시설종류명(시설유형)', '시설종류상세명(시설종류)', '자치구(시)구분',\n",
      "       '시군구코드', '시군구명', '시설주소', '전화번호', '우편번호', '시설 주소_cleaned', 'lat', 'lon',\n",
      "       'x', 'y'],\n",
      "      dtype='object')\n",
      "221 103\n",
      "14 3\n"
     ]
    }
   ],
   "source": [
    "# 1️⃣ 두 데이터프레임에서 '시군구명' 컬럼 확인\n",
    "print(df1.columns)\n",
    "print(df2.columns)\n",
    "\n",
    "# 2️⃣ 강서구 / 강북구만 각각 추출\n",
    "df1_gangseo = df1[df1['시군구명'] == '강서구'].copy()\n",
    "df1_gangbuk = df1[df1['시군구명'] == '강북구'].copy()\n",
    "\n",
    "df2_gangseo = df2[df2['시군구명'] == '강서구'].copy()\n",
    "df2_gangbuk = df2[df2['시군구명'] == '강북구'].copy()\n",
    "\n",
    "# 3️⃣ 확인\n",
    "print(len(df1_gangseo), len(df1_gangbuk))\n",
    "print(len(df2_gangseo), len(df2_gangbuk))"
   ]
  },
  {
   "cell_type": "code",
   "execution_count": 5,
   "id": "650ec998",
   "metadata": {},
   "outputs": [
    {
     "name": "stdout",
     "output_type": "stream",
     "text": [
      "강서구: 235 행\n",
      "강북구: 106 행\n",
      "✅ 강서구/강북구 데이터셋이 각각 저장되었습니다!\n"
     ]
    }
   ],
   "source": [
    "import pandas as pd\n",
    "\n",
    "# 1️⃣ 두 데이터프레임 합치기\n",
    "df = pd.concat([df1, df2], ignore_index=True)\n",
    "\n",
    "# 혹시 df2가 '자치구(시)구분'이라는 컬럼명을 쓴다면 통일\n",
    "if '시군구명' not in df.columns and '자치구(시)구분' in df.columns:\n",
    "    df.rename(columns={'자치구(시)구분': '시군구명'}, inplace=True)\n",
    "\n",
    "# 2️⃣ 강서구 / 강북구만 필터링\n",
    "df_gangseo = df[df['시군구명'] == '강서구'].copy()\n",
    "df_gangbuk = df[df['시군구명'] == '강북구'].copy()\n",
    "\n",
    "# 3️⃣ 크기 확인\n",
    "print(\"강서구:\", len(df_gangseo), \"행\")\n",
    "print(\"강북구:\", len(df_gangbuk), \"행\")\n",
    "\n",
    "# 4️⃣ (선택) 파일로 저장\n",
    "df_gangseo.to_csv(\"강서구_데이터.csv\", index=False, encoding='utf-8-sig')\n",
    "df_gangbuk.to_csv(\"강북구_데이터.csv\", index=False, encoding='utf-8-sig')\n",
    "\n",
    "print(\"✅ 강서구/강북구 데이터셋이 각각 저장되었습니다!\")"
   ]
  },
  {
   "cell_type": "code",
   "execution_count": 6,
   "id": "a3fa95cf",
   "metadata": {},
   "outputs": [
    {
     "name": "stdout",
     "output_type": "stream",
     "text": [
      "0      노인여가복지시설\n",
      "1      노인여가복지시설\n",
      "2      노인여가복지시설\n",
      "3      노인여가복지시설\n",
      "4      노인여가복지시설\n",
      "         ...   \n",
      "101    노인여가복지시설\n",
      "102    노인여가복지시설\n",
      "103         NaN\n",
      "104         NaN\n",
      "105         NaN\n",
      "Name: 시설종류, Length: 106, dtype: object\n"
     ]
    }
   ],
   "source": [
    "gangbuk = pd.read_csv(\"강북구_데이터.csv\")\n",
    "\n",
    "print(gangbuk['시설종류'])"
   ]
  },
  {
   "cell_type": "code",
   "execution_count": 13,
   "id": "33d88b1d",
   "metadata": {},
   "outputs": [
    {
     "name": "stdout",
     "output_type": "stream",
     "text": [
      "시설종류\n",
      "노인여가복지시설    221\n",
      "Name: count, dtype: int64\n",
      "\n",
      "\n"
     ]
    }
   ],
   "source": [
    "gangsu = pd.read_csv(\"강서구_데이터.csv\")\n",
    "\n",
    "print(gangsu['시설종류'].value_counts())\n",
    "\n",
    "print(\"\\n\")"
   ]
  },
  {
   "cell_type": "code",
   "execution_count": null,
   "id": "d24f6604",
   "metadata": {},
   "outputs": [],
   "source": []
  }
 ],
 "metadata": {
  "kernelspec": {
   "display_name": "welfare-geo",
   "language": "python",
   "name": "python3"
  },
  "language_info": {
   "codemirror_mode": {
    "name": "ipython",
    "version": 3
   },
   "file_extension": ".py",
   "mimetype": "text/x-python",
   "name": "python",
   "nbconvert_exporter": "python",
   "pygments_lexer": "ipython3",
   "version": "3.11.11"
  }
 },
 "nbformat": 4,
 "nbformat_minor": 5
}
